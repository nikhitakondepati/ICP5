{
  "nbformat": 4,
  "nbformat_minor": 0,
  "metadata": {
    "colab": {
      "provenance": []
    },
    "kernelspec": {
      "name": "python3",
      "display_name": "Python 3"
    },
    "language_info": {
      "name": "python"
    }
  },
  "cells": [
    {
      "cell_type": "code",
      "execution_count": 11,
      "metadata": {
        "colab": {
          "base_uri": "https://localhost:8080/"
        },
        "id": "YvliwcSEkLil",
        "outputId": "50cefe6d-96dd-41e2-8bc9-d9cfcbab6de1"
      },
      "outputs": [
        {
          "output_type": "stream",
          "name": "stdout",
          "text": [
            "Accuracy: 0.3076923076923077\n",
            "Classification Report:\n",
            "               precision    recall  f1-score   support\n",
            "\n",
            "           1       0.00      0.00      0.00        19\n",
            "           2       0.40      0.17      0.24        23\n",
            "           3       0.08      0.75      0.15         4\n",
            "           5       0.33      0.17      0.22         6\n",
            "           6       0.75      1.00      0.86         3\n",
            "           7       0.90      0.90      0.90        10\n",
            "\n",
            "    accuracy                           0.31        65\n",
            "   macro avg       0.41      0.50      0.40        65\n",
            "weighted avg       0.35      0.31      0.29        65\n",
            "\n"
          ]
        }
      ],
      "source": [
        "import pandas as pd\n",
        "from sklearn.model_selection import train_test_split\n",
        "from sklearn.naive_bayes import GaussianNB\n",
        "from sklearn.metrics import classification_report\n",
        "\n",
        "data = pd.read_csv('glass.csv')\n",
        "\n",
        "x = data.drop('Type', axis=1)\n",
        "y = data['Type']\n",
        "\n",
        "x_train, x_true, y_train, y_true = train_test_split(x, y, test_size=0.3, random_state=42)\n",
        "\n",
        "nb_classifier = GaussianNB()\n",
        "\n",
        "nb_classifier.fit(x_train, y_train)\n",
        "\n",
        "y_pred = nb_classifier.predict(x_true)\n",
        "\n",
        "accuracy = nb_classifier.score(x_true, y_true)\n",
        "\n",
        "classification_rep = classification_report(y_true, y_pred)\n",
        "\n",
        "print(\"Accuracy:\", accuracy)\n",
        "print(\"Classification Report:\\n\", classification_rep)"
      ]
    },
    {
      "cell_type": "code",
      "source": [
        "import pandas as pd\n",
        "from sklearn.model_selection import train_test_split\n",
        "from sklearn.svm import SVC\n",
        "from sklearn.metrics import classification_report\n",
        "\n",
        "data = pd.read_csv('glass.csv')\n",
        "\n",
        "x = data.drop('Type', axis=1)\n",
        "y = data['Type']\n",
        "\n",
        "x_train, x_true, y_train, y_true = train_test_split(x, y, test_size=1/3, random_state=42)\n",
        "\n",
        "svm_classifier = SVC(kernel='linear')\n",
        "\n",
        "svm_classifier.fit(x_train, y_train)\n",
        "\n",
        "y_pred = svm_classifier.predict(x_true)\n",
        "\n",
        "accuracy = svm_classifier.score(x_true, y_true)\n",
        "\n",
        "classification_rep = classification_report(y_true, y_pred, zero_division=0)\n",
        "\n",
        "print(\"Accuracy:\", accuracy)\n",
        "print(\"Classification Report:\\n\", classification_rep)"
      ],
      "metadata": {
        "colab": {
          "base_uri": "https://localhost:8080/"
        },
        "id": "r3DmnoBBoBCs",
        "outputId": "ac4d48df-6e44-4498-fe1a-10252993a91e"
      },
      "execution_count": 10,
      "outputs": [
        {
          "output_type": "stream",
          "name": "stdout",
          "text": [
            "Accuracy: 0.6805555555555556\n",
            "Classification Report:\n",
            "               precision    recall  f1-score   support\n",
            "\n",
            "           1       0.69      0.78      0.73        23\n",
            "           2       0.59      0.68      0.63        25\n",
            "           3       0.00      0.00      0.00         4\n",
            "           5       1.00      0.50      0.67         6\n",
            "           6       0.50      0.50      0.50         4\n",
            "           7       0.90      0.90      0.90        10\n",
            "\n",
            "    accuracy                           0.68        72\n",
            "   macro avg       0.61      0.56      0.57        72\n",
            "weighted avg       0.66      0.68      0.66        72\n",
            "\n"
          ]
        }
      ]
    }
  ]
}